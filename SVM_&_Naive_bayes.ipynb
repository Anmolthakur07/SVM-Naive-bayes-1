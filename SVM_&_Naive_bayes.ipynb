{
  "nbformat": 4,
  "nbformat_minor": 0,
  "metadata": {
    "colab": {
      "provenance": []
    },
    "kernelspec": {
      "name": "python3",
      "display_name": "Python 3"
    },
    "language_info": {
      "name": "python"
    }
  },
  "cells": [
    {
      "cell_type": "markdown",
      "source": [
        "# SVM & Naive bayes\n",
        "1. What is a Support Vector Machine (SVM)?\n",
        " - A Support Vector Machine (SVM) is a supervised machine learning algorithm used primarily for classification tasks, although it can also be used for regression (called Support Vector Regression or SVR).\n",
        "2. What is the difference between Hard Margin and Soft Margin SVM?\n",
        " - The difference between Hard Margin and Soft Margin SVM lies in how strictly the algorithm enforces the separation of classes in the training data.\n",
        "\n",
        "| Feature                             | **Hard Margin SVM**                           | **Soft Margin SVM**                                      |\n",
        "| ----------------------------------- | --------------------------------------------- | -------------------------------------------------------- |\n",
        "| **Tolerance for Misclassification** | No misclassifications allowed                 | Allows some misclassifications                           |\n",
        "| **Data Requirements**               | Data must be **perfectly linearly separable** | Works with **non-linearly separable** data               |\n",
        "| **Flexibility**                     | Less flexible; rigid decision boundary        | More flexible; trades off margin size for fewer errors   |\n",
        "| **Generalization**                  | Can **overfit** if data is noisy              | Better **generalization** with noisy or overlapping data |\n",
        "| **Slack Variables**                 | Not used                                      | Uses **slack variables** to allow violations             |\n",
        "| **Optimization Goal**               | Maximize margin with no violations            | Maximize margin while penalizing classification errors   |\n",
        "| **Use Case**                        | Ideal for clean, well-separated datasets      | Preferred for real-world, imperfect data                 |\n",
        "| **Risk of Overfitting**             | High (when data is noisy)                     | Lower (more robust to outliers and noise)                |\n",
        "\n",
        "3. What is the mathematical intuition behind SVM?\n",
        " - The mathematical intuition behind Support Vector Machines (SVM) revolves around finding the optimal hyperplane that best separates data points of different classes with the maximum margin.\n",
        "\n",
        "4. What is the role of Lagrange Multipliers in SVM?\n",
        " - The Lagrange multipliers play a central role in solving the optimization problem in Support Vector Machines (SVM), particularly by transforming the primal problem (original constrained optimization) into its dual form, which is often more computationally efficient and suitable for the kernel trick.\n",
        "\n",
        "5. What are Support Vectors in SVM?\n",
        " - Support vectors are the critical data points in the training dataset that lie closest to the decision boundary (hyperplane). These are the points that \"support\" or define the margin, and they are the only points used to determine the position and orientation of the optimal separating hyperplane.\n",
        "\n",
        "6. What is a Support Vector Classifier (SVC)?\n",
        " - A Support Vector Classifier (SVC) is the practical implementation of a Support Vector Machine (SVM) used specifically for classification tasks.\n",
        "\n",
        " - It finds the optimal hyperplane that separates data points from different classes with the maximum margin, possibly allowing some misclassifications (using a soft margin) and using kernel functions to handle non-linear boundaries.\n",
        "7. What is a Support Vector Regressor (SVR)?\n",
        " - Support Vector Regressor (SVR) is the regression counterpart of Support Vector Machines (SVM). Instead of predicting class labels, SVR predicts a continuous value, while still aiming to create a model that is as simple as possible and robust to outliers.\n",
        "\n",
        "8. What is the Kernel Trick in SVM?\n",
        " - The Kernel Trick is a powerful technique used in Support Vector Machines (SVMs) to handle non-linearly separable data by implicitly mapping it into a higher-dimensional space—without ever computing the coordinates in that space.\n",
        "9. Compare Linear Kernel, Polynomial Kernel, and RBF Kernel.\n",
        " -\n",
        "\n",
        "\n",
        "\n",
        " | Feature / Kernel Type  | **Linear Kernel**                     | **Polynomial Kernel**                           | **RBF (Gaussian) Kernel**                          |\n",
        "| ---------------------- | ------------------------------------- | ----------------------------------------------- | -------------------------------------------------- |\n",
        "| **Formula**            | $K(x, x') = x^\\top x'$                | $K(x, x') = (x^\\top x' + c)^d$                  | $K(x, x') = \\exp(-\\gamma \\|x - x'\\|^2)$            |\n",
        "| **Parameters**         | None (or optional regularization)     | Degree $d$, coefficient $c$                     | Gamma $\\gamma$                                     |\n",
        "| **Feature Space**      | Original space                        | Mapped to polynomial space                      | Infinite-dimensional (via Gaussian mapping)        |\n",
        "| **Non-linearity**      | ❌ (linear only)                       | ✅ (curved boundaries possible)                  | ✅ (highly flexible boundaries)                     |\n",
        "| **Computational Cost** | Low                                   | Medium to High (depends on degree)              | Medium                                             |\n",
        "| **Best Use Case**      | When data is linearly separable       | When interactions are polynomial-like           | When decision boundary is highly nonlinear         |\n",
        "| **Overfitting Risk**   | Low                                   | Medium (depends on degree)                      | High (if gamma is too large)                       |\n",
        "| **Interpretability**   | Easy to interpret                     | Harder as degree increases                      | Least interpretable                                |\n",
        "| **Scalability**        | Good for high-dimensional sparse data | May not scale well with high-degree polynomials | Sensitive to choice of gamma and data distribution |\n",
        ""
      ],
      "metadata": {
        "id": "3mpvILd4mxPa"
      }
    },
    {
      "cell_type": "markdown",
      "source": [
        "10. What is the effect of the C parameter in SVM?\n",
        " - The C parameter in Support Vector Machines controls the trade-off between maximizing the margin and minimizing classification errors (or slack penalties).\n",
        "11. What is the role of the Gamma parameter in RBF Kernel SVM?\n",
        " - The Gamma (γ) parameter in an RBF (Radial Basis Function) kernel controls the influence of a single training example on the decision boundary. It essentially determines how far the influence of a single training point reaches.\n",
        "12. What is the Naïve Bayes classifier, and why is it called \"Naïve\"?\n",
        " - he Naïve Bayes classifier is a probabilistic machine learning model used for classification tasks. It applies Bayes’ theorem with a strong (naïve) assumption of feature independence given the class label.\n",
        "  - Why is it called \"Naïve\"?\n",
        "     - Because it naïvely assumes that all features are independent of each other given the class label, which is often not true in real-world data. Despite this simplification, the classifier often performs surprisingly well, especially in high-dimensional problems like text classification.\n",
        "13. What is Bayes’ Theorem?\n",
        " - Bayes’ Theorem is a fundamental rule in probability theory that describes how to update the probability of a hypothesis based on new evidence.\n",
        "\n",
        "14. Explain the differences between Gaussian Naïve Bayes, Multinomial Naïve Bayes, and Bernoulli Naïve Bayes.\n",
        " -\n",
        "\n",
        "\n",
        " | Feature                       | Gaussian Naïve Bayes                                 | Multinomial Naïve Bayes                                       | Bernoulli Naïve Bayes                                          |\n",
        "| ----------------------------- | ---------------------------------------------------- | ------------------------------------------------------------- | -------------------------------------------------------------- |\n",
        "| **Data Type**                 | Continuous features                                  | Discrete counts (e.g., word frequencies)                      | Binary features (presence/absence of features)                 |\n",
        "| **Assumption about features** | Features follow a **Gaussian (normal)** distribution | Features are generated from a **multinomial** distribution    | Features are **Bernoulli-distributed** (binary)                |\n",
        "| **Typical Use Cases**         | Continuous data like measurements, sensor data       | Text classification with word counts (e.g., bag-of-words)     | Text classification with binary features (word present or not) |\n",
        "| **Modeling Approach**         | Estimates mean and variance per feature per class    | Estimates probability of each feature occurring in each class | Estimates probability of feature presence per class            |\n",
        "| **Example**                   | Height, weight, blood pressure                       | Number of times a word appears in a document                  | Whether a word appears or not in a document                    |\n",
        "| **Strengths**                 | Works well with continuous data                      | Good for document classification with frequency features      | Good when binary indicators are more meaningful                |\n",
        "| **Weaknesses**                | Poor with non-normal data                            | Assumes feature independence, can be sparse                   | Assumes binary data, ignores frequency information             |\n",
        "     "
      ],
      "metadata": {
        "id": "NYp_PfpKtpwT"
      }
    },
    {
      "cell_type": "markdown",
      "source": [
        "15. When should you use Gaussian Naïve Bayes over other variants?\n",
        " - ou should use Gaussian Naïve Bayes when your data features are continuous-valued and approximately normally (Gaussian) distributed within each class.\n",
        " -\n",
        "\n",
        "\n",
        " | Condition                           | Explanation                                                                                     |\n",
        "| ----------------------------------- | ----------------------------------------------------------------------------------------------- |\n",
        "| **Continuous features**             | Features like height, weight, temperature, or any measurements that can take on any real value. |\n",
        "| **Approximate normal distribution** | When each feature, within each class, roughly follows a bell-shaped curve.                      |\n",
        "| **Small to medium-sized datasets**  | Works well without needing huge data, since it models mean and variance per feature/class.      |\n",
        "| **When interpretability matters**   | You get a simple probabilistic model with parameters (mean and variance) easy to interpret.     |\n",
        "\n",
        "16. What are the key assumptions made by Naïve Bayes?\n",
        " -\n",
        "\n",
        "\n",
        " | **Assumption**                                   | **Description**                                                                                                                                                                                                                                                           | **Impact / Notes**                                                             |\n",
        "| ------------------------------------------------ | ------------------------------------------------------------------------------------------------------------------------------------------------------------------------------------------------------------------------------------------------------------------------- | ------------------------------------------------------------------------------ |\n",
        "| **Feature Independence**                         | All features are **conditionally independent** given the class label.                                                                                                                                                                                                     | Simplifies computation; rarely true but often works well in practice.          |\n",
        "| **Feature Distribution**                         | Each feature follows a specific distribution depending on variant:<br>- Gaussian NB: features are normally distributed.<br>- Multinomial NB: features are counts with multinomial distribution.<br>- Bernoulli NB: features are binary and follow Bernoulli distribution. | Model performance depends on how well this matches data.                       |\n",
        "| **All Features Relevant**                        | Each feature contributes independently to the class prediction.                                                                                                                                                                                                           | Ignores feature interactions, may miss complex relationships.                  |\n",
        "| **Class Prior Probabilities Known or Estimable** | Prior probabilities of classes can be estimated from training data.                                                                                                                                                                                                       | Priors affect posterior probabilities; unbalanced classes may need adjustment. |\n",
        "| **Features are Observed Without Noise**          | Observed feature values are accurate representations of true values.                                                                                                                                                                                                      | Noise can degrade classifier accuracy.                                         |\n",
        "\n"
      ],
      "metadata": {
        "id": "m6jTssFdv3Bp"
      }
    },
    {
      "cell_type": "markdown",
      "source": [
        "17. What are the advantages and disadvantages of Naïve Bayes?\n",
        " -\n",
        "\n",
        "\n",
        " | **Advantages**                                                                    | **Disadvantages**                                                                                          |\n",
        "| --------------------------------------------------------------------------------- | ---------------------------------------------------------------------------------------------------------- |\n",
        "| **Simple and fast** to train and predict, even with large datasets                | **Strong independence assumption** often unrealistic                                                       |\n",
        "| **Works well with high-dimensional data** like text classification                | **Cannot learn feature interactions** or dependencies                                                      |\n",
        "| **Performs well even with small amounts of training data**                        | **Zero probability problem** if a feature-class combination never occurs (can be mitigated with smoothing) |\n",
        "| **Probabilistic output** provides class probabilities, useful for decision-making | **Sensitive to how features are represented** (e.g., discrete vs continuous)                               |\n",
        "| Requires **less training data** compared to complex models                        | May perform poorly if feature distributions are poorly modeled (e.g., Gaussian assumption violated)        |\n",
        "| **Robust to irrelevant features**                                                 | May be outperformed by more sophisticated algorithms on complex datasets                                   |\n"
      ],
      "metadata": {
        "id": "FLxwh4eYw-uC"
      }
    },
    {
      "cell_type": "markdown",
      "source": [
        "18. Why is Naïve Bayes a good choice for text classification?\n",
        " -\n",
        "\n",
        "\n",
        " | Reason                                     | Explanation                                                                                            |\n",
        "| ------------------------------------------ | ------------------------------------------------------------------------------------------------------ |\n",
        "| **Handles High-Dimensional Data**          | Text data often has thousands of features (words), and Naïve Bayes scales well without overfitting.    |\n",
        "| **Works with Sparse Data**                 | Many words are absent in a given document; Naïve Bayes handles this sparsity efficiently.              |\n",
        "| **Conditional Independence Approximation** | Words are treated as independent features, which is a reasonable simplification in many text contexts. |\n",
        "| **Fast Training and Prediction**           | Suitable for large text corpora and real-time classification needs.                                    |\n",
        "| **Robust to Irrelevant Features**          | Irrelevant words don’t heavily impact the model, so no heavy feature selection needed.                 |\n",
        "| **Probabilistic Output**                   | Produces class probabilities useful for ranking and confidence estimation (e.g., spam filtering).      |\n",
        "| **Effective with Small Training Sets**     | Can perform well even when labeled examples are limited.                                               |\n"
      ],
      "metadata": {
        "id": "PjTDdX5QxJwk"
      }
    },
    {
      "cell_type": "markdown",
      "source": [
        "19. Compare SVM and Naïve Bayes for classification tasks.\n",
        " -\n",
        "\n",
        "\n",
        " | **Aspect**                               | **Support Vector Machine (SVM)**                                            | **Naïve Bayes**                                                             |\n",
        "| ---------------------------------------- | --------------------------------------------------------------------------- | --------------------------------------------------------------------------- |\n",
        "| **Type of Model**                        | Discriminative, margin-based classifier                                     | Generative probabilistic classifier                                         |\n",
        "| **Underlying Principle**                 | Finds the optimal hyperplane maximizing the margin between classes          | Uses Bayes’ theorem with feature independence assumption                    |\n",
        "| **Feature Assumptions**                  | No strict assumption about feature independence                             | Assumes conditional independence of features                                |\n",
        "| **Handling Non-linearity**               | Uses kernels (e.g., RBF, polynomial) to handle non-linear data              | Typically assumes specific distributions (Gaussian, multinomial, Bernoulli) |\n",
        "| **Performance on High-Dimensional Data** | Effective, especially with kernel trick                                     | Effective, especially in text and sparse data                               |\n",
        "| **Training Speed**                       | Slower, especially with large datasets and complex kernels                  | Very fast, scales well with large datasets                                  |\n",
        "| **Interpretability**                     | Less interpretable, especially with complex kernels                         | More interpretable due to probabilistic nature                              |\n",
        "| **Robustness to Noise**                  | Sensitive to outliers and noise                                             | More robust due to probabilistic modeling                                   |\n",
        "| **Parameter Tuning**                     | Requires careful tuning of parameters (C, kernel, gamma)                    | Requires minimal tuning, mostly smoothing parameter                         |\n",
        "| **Output**                               | Hard margin decision boundary, but can produce probabilities via extensions | Provides class probabilities directly                                       |\n",
        "| **Common Applications**                  | Image recognition, bioinformatics, text classification                      | Spam filtering, document classification, sentiment analysis                 |\n",
        "| **Advantages**                           | High accuracy, flexible with kernels                                        | Simple, fast, works well with text and categorical data                     |\n",
        "| **Disadvantages**                        | Computationally intensive, needs parameter tuning                           | Strong independence assumption may limit accuracy                           |\n"
      ],
      "metadata": {
        "id": "lpxISPbaxYU4"
      }
    },
    {
      "cell_type": "markdown",
      "source": [
        "20. How does Laplace Smoothing help in Naïve Bayes?\n",
        " -\n",
        "\n",
        "\n",
        " | **Aspect**                  | **Without Laplace Smoothing**                                                                    | **With Laplace Smoothing**                                          |                           |                                                                                                             |\n",
        "| --------------------------- | ------------------------------------------------------------------------------------------------ | ------------------------------------------------------------------- | ------------------------- | ----------------------------------------------------------------------------------------------------------- |\n",
        "| **Problem Addressed**       | Zero probability for unseen feature-class combinations                                           | Avoids zero probabilities by adding a small constant                |                           |                                                                                                             |\n",
        "| **Effect on Probability**   | Probability becomes zero if a feature never appears in training for a class                      | Probabilities are never zero; all features have non-zero likelihood |                           |                                                                                                             |\n",
        "| **Impact on Prediction**    | May cause the entire class posterior probability to become zero, leading to wrong classification | More stable predictions, better generalization to unseen data       |                           |                                                                                                             |\n",
        "| **Mathematical Adjustment** | Uses raw counts ( P(x\\_i                                                                         | C) = \\frac{\\text{count}(x\\_i, C)}{\\text{count}(C)} )                | Adjusted counts: ( P(x\\_i | C) = \\frac{\\text{count}(x\\_i, C) + 1}{\\text{count}(C) + V} ), where $V$ = number of possible feature values |\n",
        "| **Use Case**                | Works only when all features appear in all classes in training                                   | Useful especially in text classification with large vocabularies    |                           |                                                                                                             |\n"
      ],
      "metadata": {
        "id": "iH6xWxzIxocr"
      }
    },
    {
      "cell_type": "markdown",
      "source": [
        "# Practical"
      ],
      "metadata": {
        "id": "cJ90uwoAyCG5"
      }
    },
    {
      "cell_type": "code",
      "source": [
        "1. #Write a Python program to train an SVM Classifier on the Iris dataset and evaluate accuracy.\n",
        "from sklearn import datasets\n",
        "from sklearn.model_selection import train_test_split\n",
        "from sklearn.svm import SVC\n",
        "from sklearn.metrics import accuracy_score\n",
        "\n",
        "# Load the Iris dataset\n",
        "iris = datasets.load_iris()\n",
        "X = iris.data\n",
        "y = iris.target\n",
        "\n",
        "# Split the dataset into training and test sets (80% train, 20% test)\n",
        "X_train, X_test, y_train, y_test = train_test_split(X, y, test_size=0.2, random_state=42)\n",
        "\n",
        "# Initialize the SVM classifier (using RBF kernel by default)\n",
        "svm_model = SVC(kernel='rbf', C=1.0, gamma='scale')\n",
        "\n",
        "# Train the model\n",
        "svm_model.fit(X_train, y_train)\n",
        "\n",
        "# Make predictions\n",
        "y_pred = svm_model.predict(X_test)\n",
        "\n",
        "# Evaluate accuracy\n",
        "accuracy = accuracy_score(y_test, y_pred)\n",
        "print(f\"SVM Classifier Accuracy on Iris Dataset: {accuracy * 100:.2f}%\")\n"
      ],
      "metadata": {
        "colab": {
          "base_uri": "https://localhost:8080/"
        },
        "id": "JOgCyrfEyINi",
        "outputId": "c640a237-02bd-4460-e248-1d0a3c62f8d3"
      },
      "execution_count": 1,
      "outputs": [
        {
          "output_type": "stream",
          "name": "stdout",
          "text": [
            "SVM Classifier Accuracy on Iris Dataset: 100.00%\n"
          ]
        }
      ]
    },
    {
      "cell_type": "code",
      "source": [
        "2. #Write a Python program to train two SVM classifiers with Linear and RBF kernels on the Wine dataset, then\n",
        "from sklearn import datasets\n",
        "from sklearn.model_selection import train_test_split\n",
        "from sklearn.svm import SVC\n",
        "from sklearn.metrics import accuracy_score\n",
        "\n",
        "# Load the Wine dataset\n",
        "wine = datasets.load_wine()\n",
        "X = wine.data\n",
        "y = wine.target\n",
        "\n",
        "# Split dataset into training and testing sets (80% train, 20% test)\n",
        "X_train, X_test, y_train, y_test = train_test_split(X, y, test_size=0.2, random_state=42)\n",
        "\n",
        "# Train SVM with Linear Kernel\n",
        "svm_linear = SVC(kernel='linear', C=1.0)\n",
        "svm_linear.fit(X_train, y_train)\n",
        "y_pred_linear = svm_linear.predict(X_test)\n",
        "accuracy_linear = accuracy_score(y_test, y_pred_linear)\n",
        "\n",
        "# Train SVM with RBF Kernel\n",
        "svm_rbf = SVC(kernel='rbf', C=1.0, gamma='scale')\n",
        "svm_rbf.fit(X_train, y_train)\n",
        "y_pred_rbf = svm_rbf.predict(X_test)\n",
        "accuracy_rbf = accuracy_score(y_test, y_pred_rbf)\n",
        "\n",
        "# Compare accuracies\n",
        "print(f\"Linear Kernel SVM Accuracy: {accuracy_linear * 100:.2f}%\")\n",
        "print(f\"RBF Kernel SVM Accuracy:    {accuracy_rbf * 100:.2f}%\")\n"
      ],
      "metadata": {
        "colab": {
          "base_uri": "https://localhost:8080/"
        },
        "id": "AaO96JpfgAJv",
        "outputId": "21060045-9c80-4c2a-daee-6f048a4df410"
      },
      "execution_count": 2,
      "outputs": [
        {
          "output_type": "stream",
          "name": "stdout",
          "text": [
            "Linear Kernel SVM Accuracy: 100.00%\n",
            "RBF Kernel SVM Accuracy:    80.56%\n"
          ]
        }
      ]
    },
    {
      "cell_type": "code",
      "source": [
        "3. #Write a Python program to train an SVM Regressor (SVR) on a housing dataset and evaluate it using Mean\n",
        "#Squared Error (MSE).\n",
        "from sklearn.datasets import fetch_california_housing\n",
        "from sklearn.model_selection import train_test_split\n",
        "from sklearn.svm import SVR\n",
        "from sklearn.metrics import mean_squared_error\n",
        "from sklearn.preprocessing import StandardScaler\n",
        "\n",
        "# Load California Housing dataset\n",
        "housing = fetch_california_housing()\n",
        "X = housing.data\n",
        "y = housing.target\n",
        "\n",
        "# Split into training and testing sets\n",
        "X_train, X_test, y_train, y_test = train_test_split(X, y, test_size=0.2, random_state=42)\n",
        "\n",
        "# Scale features (important for SVR)\n",
        "scaler_X = StandardScaler()\n",
        "scaler_y = StandardScaler()\n",
        "\n",
        "X_train_scaled = scaler_X.fit_transform(X_train)\n",
        "X_test_scaled = scaler_X.transform(X_test)\n",
        "\n",
        "y_train_scaled = scaler_y.fit_transform(y_train.reshape(-1, 1)).ravel()\n",
        "\n",
        "# Train SVR model with RBF kernel\n",
        "svr_model = SVR(kernel='rbf', C=1.0, epsilon=0.1)\n",
        "svr_model.fit(X_train_scaled, y_train_scaled)\n",
        "\n",
        "# Predict on test set\n",
        "y_pred_scaled = svr_model.predict(X_test_scaled)\n",
        "\n",
        "# Inverse scale the predictions\n",
        "y_pred = scaler_y.inverse_transform(y_pred_scaled.reshape(-1, 1)).ravel()\n",
        "\n",
        "# Calculate Mean Squared Error\n",
        "mse = mean_squared_error(y_test, y_pred)\n"
      ],
      "metadata": {
        "id": "s2vzg3sqgVND"
      },
      "execution_count": 6,
      "outputs": []
    },
    {
      "cell_type": "code",
      "source": [
        "4. #Write a Python program to train an SVM Classifier with a Polynomial Kernel and visualize the decision\n",
        "#boundary.\n",
        "import numpy as np\n",
        "import matplotlib.pyplot as plt\n",
        "from sklearn import svm\n",
        "from sklearn.datasets import make_classification\n",
        "from sklearn.preprocessing import StandardScaler\n",
        "\n",
        "# Generate a 2D synthetic dataset for visualization\n",
        "X, y = make_classification(n_samples=100, n_features=2, n_informative=2,\n",
        "                           n_redundant=0, n_clusters_per_class=1,\n",
        "                           n_classes=2, random_state=42)\n",
        "\n",
        "# Scale features\n",
        "scaler = StandardScaler()\n",
        "X = scaler.fit_transform(X)\n",
        "\n",
        "# Train SVM with Polynomial Kernel\n",
        "svm_poly = svm.SVC(kernel='poly', degree=3, C=1.0)\n",
        "svm_poly.fit(X, y)\n",
        "\n",
        "# Create a meshgrid to plot decision boundary\n",
        "x_min, x_max = X[:, 0].min() - 1, X[:, 0].max() + 1\n",
        "y_min, y_max = X[:, 1].min() - 1, X[:, 1].max() + 1\n",
        "xx, yy = np.meshgrid(np.linspace(x_min, x_max, 500),\n",
        "                     np.linspace(y_min, y_max, 500))\n",
        "\n",
        "# Predict on meshgrid\n",
        "Z = svm_poly.predict(np.c_[xx.ravel(), yy.ravel()])\n",
        "Z = Z.reshape(xx.shape)\n",
        "\n",
        "# Plot the decision boundary and data points\n",
        "plt.contourf(xx, yy, Z, alpha=0.3, cmap=plt.cm.coolwarm)\n",
        "plt.scatter(X[:, 0], X[:, 1], c=y, s=30, cmap=plt.cm.coolwarm, edgecolors='k')\n",
        "plt.title(\"SVM with Polynomial Kernel (degree=3)\")\n",
        "plt.xlabel(\"Feature 1\")\n",
        "plt.ylabel(\"Feature 2\")\n",
        "plt.grid(True)\n",
        "plt.show()\n"
      ],
      "metadata": {
        "colab": {
          "base_uri": "https://localhost:8080/",
          "height": 472
        },
        "id": "8tJTBwDlgqiJ",
        "outputId": "3cd9e677-aa3b-4bdd-cf92-825282aabd4c"
      },
      "execution_count": 4,
      "outputs": [
        {
          "output_type": "display_data",
          "data": {
            "text/plain": [
              "<Figure size 640x480 with 1 Axes>"
            ],
            "image/png": "[encoded data removed]"
          },
          "metadata": {}
        }
      ]
    },
    {
      "cell_type": "code",
      "source": [
        "5. #Write a Python program to train a Gaussian Naïve Bayes classifier on the Breast Cancer dataset and\n",
        "#evaluate accuracy.\n",
        "from sklearn.datasets import load_breast_cancer\n",
        "from sklearn.model_selection import train_test_split\n",
        "from sklearn.naive_bayes import GaussianNB\n",
        "from sklearn.metrics import accuracy_score\n",
        "\n",
        "# Load Breast Cancer dataset\n",
        "data = load_breast_cancer()\n",
        "X = data.data\n",
        "y = data.target\n",
        "\n",
        "# Split into training and testing sets (80% train, 20% test)\n",
        "X_train, X_test, y_train, y_test = train_test_split(X, y, test_size=0.2, random_state=42)\n",
        "\n",
        "# Initialize and train Gaussian Naïve Bayes classifier\n",
        "gnb = GaussianNB()\n",
        "gnb.fit(X_train, y_train)\n",
        "\n",
        "# Predict on test set\n",
        "y_pred = gnb.predict(X_test)\n",
        "\n",
        "# Evaluate accuracy\n",
        "accuracy = accuracy_score(y_test, y_pred)\n",
        "print(f\"Gaussian Naïve Bayes Accuracy on Breast Cancer Dataset: {accuracy * 100:.2f}%\")\n"
      ],
      "metadata": {
        "colab": {
          "base_uri": "https://localhost:8080/"
        },
        "id": "cRWrby21hKk4",
        "outputId": "098d6f48-c783-403c-a720-e0f0312731ef"
      },
      "execution_count": 7,
      "outputs": [
        {
          "output_type": "stream",
          "name": "stdout",
          "text": [
            "Gaussian Naïve Bayes Accuracy on Breast Cancer Dataset: 97.37%\n"
          ]
        }
      ]
    },
    {
      "cell_type": "code",
      "source": [
        "6. #Write a Python program to train a Multinomial Naïve Bayes classifier for text classification using the 20\n",
        "#Newsgroups dataset.\n",
        "from sklearn.datasets import fetch_20newsgroups\n",
        "from sklearn.feature_extraction.text import CountVectorizer\n",
        "from sklearn.naive_bayes import MultinomialNB\n",
        "from sklearn.model_selection import train_test_split\n",
        "from sklearn.metrics import accuracy_score, classification_report\n",
        "\n",
        "# Load the 20 Newsgroups dataset (use subset for speed)\n",
        "categories = ['comp.graphics', 'sci.space', 'rec.sport.baseball', 'talk.politics.misc']\n",
        "newsgroups = fetch_20newsgroups(subset='all', categories=categories, remove=('headers', 'footers', 'quotes'))\n",
        "\n",
        "# Split into training and test sets\n",
        "X_train, X_test, y_train, y_test = train_test_split(newsgroups.data, newsgroups.target, test_size=0.2, random_state=42)\n",
        "\n",
        "# Convert text data into bag-of-words features\n",
        "vectorizer = CountVectorizer(stop_words='english')\n",
        "X_train_counts = vectorizer.fit_transform(X_train)\n",
        "X_test_counts = vectorizer.transform(X_test)\n",
        "\n",
        "# Train a Multinomial Naïve Bayes classifier\n",
        "clf = MultinomialNB()\n",
        "clf.fit(X_train_counts, y_train)\n",
        "\n",
        "# Predict and evaluate\n",
        "y_pred = clf.predict(X_test_counts)\n",
        "accuracy = accuracy_score(y_test, y_pred)\n",
        "\n",
        "print(f\"Multinomial Naïve Bayes Accuracy on 20 Newsgroups Subset: {accuracy * 100:.2f}%\\n\")\n",
        "print(\"Classification Report:\")\n",
        "print(classification_report(y_test, y_pred, target_names=newsgroups.target_names))\n"
      ],
      "metadata": {
        "colab": {
          "base_uri": "https://localhost:8080/"
        },
        "id": "tS_xiGrxhfIq",
        "outputId": "926a5248-6c67-4592-e563-ca473fc36363"
      },
      "execution_count": 8,
      "outputs": [
        {
          "output_type": "stream",
          "name": "stdout",
          "text": [
            "Multinomial Naïve Bayes Accuracy on 20 Newsgroups Subset: 89.68%\n",
            "\n",
            "Classification Report:\n",
            "                    precision    recall  f1-score   support\n",
            "\n",
            "     comp.graphics       0.92      0.90      0.91       210\n",
            "rec.sport.baseball       0.85      0.95      0.90       192\n",
            "         sci.space       0.96      0.83      0.89       196\n",
            "talk.politics.misc       0.86      0.91      0.88       148\n",
            "\n",
            "          accuracy                           0.90       746\n",
            "         macro avg       0.90      0.90      0.90       746\n",
            "      weighted avg       0.90      0.90      0.90       746\n",
            "\n"
          ]
        }
      ]
    },
    {
      "cell_type": "code",
      "source": [
        "7. #Write a Python program to train an SVM Classifier with different C values and compare the decision\n",
        "#boundaries visually.\n",
        "import numpy as np\n",
        "import matplotlib.pyplot as plt\n",
        "from sklearn import svm\n",
        "from sklearn.datasets import make_classification\n",
        "from sklearn.preprocessing import StandardScaler\n",
        "\n",
        "# Generate a synthetic 2D classification dataset\n",
        "X, y = make_classification(n_samples=100, n_features=2, n_redundant=0,\n",
        "                           n_informative=2, n_clusters_per_class=1,\n",
        "                           class_sep=1.5, random_state=42)\n",
        "\n",
        "# Standardize the features\n",
        "scaler = StandardScaler()\n",
        "X = scaler.fit_transform(X)\n",
        "\n",
        "# List of C values to compare\n",
        "C_values = [0.01, 0.1, 1, 10, 100]\n",
        "\n",
        "# Create a meshgrid for plotting decision boundaries\n",
        "x_min, x_max = X[:, 0].min() - 1, X[:, 0].max() + 1\n",
        "y_min, y_max = X[:, 1].min() - 1, X[:, 1].max() + 1\n",
        "xx, yy = np.meshgrid(np.linspace(x_min, x_max, 500),\n",
        "                     np.linspace(y_min, y_max, 500))\n",
        "\n",
        "# Plot decision boundaries\n",
        "plt.figure(figsize=(15, 10))\n",
        "for i, C in enumerate(C_values, 1):\n",
        "    clf = svm.SVC(kernel='linear', C=C)\n",
        "    clf.fit(X, y)\n",
        "\n",
        "    Z = clf.predict(np.c_[xx.ravel(), yy.ravel()])\n",
        "    Z = Z.reshape(xx.shape)\n",
        "\n",
        "    plt.subplot(2, 3, i)\n",
        "    plt.contourf(xx, yy, Z, alpha=0.3, cmap=plt.cm.coolwarm)\n",
        "    plt.scatter(X[:, 0], X[:, 1], c=y, cmap=plt.cm.coolwarm, edgecolors='k')\n",
        "    plt.title(f\"SVM Decision Boundary (C = {C})\")\n",
        "    plt.xlabel(\"Feature 1\")\n",
        "    plt.ylabel(\"Feature 2\")\n",
        "\n",
        "plt.tight_layout()\n",
        "plt.show()\n"
      ],
      "metadata": {
        "colab": {
          "base_uri": "https://localhost:8080/",
          "height": 1000
        },
        "id": "jRxStFehhwym",
        "outputId": "c2910196-15b2-4ee3-9093-cccd637182e9"
      },
      "execution_count": 9,
      "outputs": [
        {
          "output_type": "display_data",
          "data": {
            "text/plain": [
              "<Figure size 1500x1000 with 5 Axes>"
            ],
            "image/png": "[encoded data removed]"
          },
          "metadata": {}
        }
      ]
    },
    {
      "cell_type": "code",
      "source": [
        "8. #Write a Python program to train a Bernoulli Naïve Bayes classifier for binary classification on a dataset with\n",
        "#binary features.\n",
        "import numpy as np\n",
        "from sklearn.datasets import make_classification\n",
        "from sklearn.model_selection import train_test_split\n",
        "from sklearn.naive_bayes import BernoulliNB\n",
        "from sklearn.metrics import accuracy_score, classification_report\n",
        "\n",
        "# Generate a binary classification dataset with numeric features\n",
        "X, y = make_classification(n_samples=1000, n_features=20, n_informative=10,\n",
        "                           n_redundant=0, n_classes=2, random_state=42)\n",
        "\n",
        "# Binarize the features: convert numeric features to 0/1 using a threshold\n",
        "X_binary = (X > 0).astype(int)\n",
        "\n",
        "# Split the data into training and test sets\n",
        "X_train, X_test, y_train, y_test = train_test_split(X_binary, y, test_size=0.2, random_state=42)\n",
        "\n",
        "# Train Bernoulli Naïve Bayes classifier\n",
        "bnb = BernoulliNB()\n",
        "bnb.fit(X_train, y_train)\n",
        "\n",
        "# Predict and evaluate\n",
        "y_pred = bnb.predict(X_test)\n",
        "accuracy = accuracy_score(y_test, y_pred)\n",
        "\n",
        "print(f\"Bernoulli Naïve Bayes Accuracy: {accuracy * 100:.2f}%\\n\")\n",
        "print(\"Classification Report:\")\n",
        "print(classification_report(y_test, y_pred))\n"
      ],
      "metadata": {
        "colab": {
          "base_uri": "https://localhost:8080/"
        },
        "id": "FKYTF0sCiQ-8",
        "outputId": "6d9686cc-38d7-4474-cfa8-217f38ef9771"
      },
      "execution_count": 10,
      "outputs": [
        {
          "output_type": "stream",
          "name": "stdout",
          "text": [
            "Bernoulli Naïve Bayes Accuracy: 75.50%\n",
            "\n",
            "Classification Report:\n",
            "              precision    recall  f1-score   support\n",
            "\n",
            "           0       0.75      0.76      0.76       101\n",
            "           1       0.76      0.75      0.75        99\n",
            "\n",
            "    accuracy                           0.76       200\n",
            "   macro avg       0.76      0.75      0.75       200\n",
            "weighted avg       0.76      0.76      0.75       200\n",
            "\n"
          ]
        }
      ]
    },
    {
      "cell_type": "code",
      "source": [
        "9. #Write a Python program to apply feature scaling before training an SVM model and compare results with\n",
        "#unscaled data.\n",
        "from sklearn import datasets\n",
        "from sklearn.model_selection import train_test_split\n",
        "from sklearn.preprocessing import StandardScaler\n",
        "from sklearn.svm import SVC\n",
        "from sklearn.metrics import accuracy_score\n",
        "\n",
        "# Load Iris dataset\n",
        "iris = datasets.load_iris()\n",
        "X = iris.data\n",
        "y = iris.target\n",
        "\n",
        "# Split data into train/test\n",
        "X_train, X_test, y_train, y_test = train_test_split(X, y, test_size=0.2, random_state=42)\n",
        "\n",
        "# 1. Train SVM without scaling\n",
        "svm_unscaled = SVC(kernel='rbf', C=1.0, gamma='scale')\n",
        "svm_unscaled.fit(X_train, y_train)\n",
        "y_pred_unscaled = svm_unscaled.predict(X_test)\n",
        "acc_unscaled = accuracy_score(y_test, y_pred_unscaled)\n",
        "\n",
        "# 2. Apply feature scaling\n",
        "scaler = StandardScaler()\n",
        "X_train_scaled = scaler.fit_transform(X_train)\n",
        "X_test_scaled = scaler.transform(X_test)\n",
        "\n",
        "# Train SVM on scaled data\n",
        "svm_scaled = SVC(kernel='rbf', C=1.0, gamma='scale')\n",
        "svm_scaled.fit(X_train_scaled, y_train)\n",
        "y_pred_scaled = svm_scaled.predict(X_test_scaled)\n",
        "acc_scaled = accuracy_score(y_test, y_pred_scaled)\n",
        "\n",
        "# Print comparison\n",
        "print(f\"Accuracy without scaling: {acc_unscaled * 100:.2f}%\")\n",
        "print(f\"Accuracy with scaling:    {acc_scaled * 100:.2f}%\")\n"
      ],
      "metadata": {
        "colab": {
          "base_uri": "https://localhost:8080/"
        },
        "id": "3UZhDHgjin2x",
        "outputId": "535df4da-9356-4a7b-bd22-4bdb80d1259d"
      },
      "execution_count": 11,
      "outputs": [
        {
          "output_type": "stream",
          "name": "stdout",
          "text": [
            "Accuracy without scaling: 100.00%\n",
            "Accuracy with scaling:    100.00%\n"
          ]
        }
      ]
    },
    {
      "cell_type": "code",
      "source": [
        "10. #Write a Python program to train a Gaussian Naïve Bayes model and compare the predictions before and\n",
        "#after Laplace Smoothing.\n",
        "from sklearn.datasets import fetch_20newsgroups\n",
        "from sklearn.feature_extraction.text import CountVectorizer\n",
        "from sklearn.naive_bayes import MultinomialNB\n",
        "from sklearn.model_selection import train_test_split\n",
        "from sklearn.metrics import accuracy_score\n",
        "\n",
        "# Load sample text dataset\n",
        "categories = ['comp.graphics', 'sci.space']\n",
        "newsgroups = fetch_20newsgroups(subset='all', categories=categories, remove=('headers', 'footers', 'quotes'))\n",
        "\n",
        "X_train, X_test, y_train, y_test = train_test_split(newsgroups.data, newsgroups.target, test_size=0.2, random_state=42)\n",
        "\n",
        "# Vectorize text data\n",
        "vectorizer = CountVectorizer(stop_words='english')\n",
        "X_train_counts = vectorizer.fit_transform(X_train)\n",
        "X_test_counts = vectorizer.transform(X_test)\n",
        "\n",
        "# Train MultinomialNB without Laplace smoothing (alpha=0)\n",
        "mnb_no_smooth = MultinomialNB(alpha=0)\n",
        "mnb_no_smooth.fit(X_train_counts, y_train)\n",
        "y_pred_no_smooth = mnb_no_smooth.predict(X_test_counts)\n",
        "acc_no_smooth = accuracy_score(y_test, y_pred_no_smooth)\n",
        "\n",
        "# Train MultinomialNB with Laplace smoothing (alpha=1)\n",
        "mnb_smooth = MultinomialNB(alpha=1)\n",
        "mnb_smooth.fit(X_train_counts, y_train)\n",
        "y_pred_smooth = mnb_smooth.predict(X_test_counts)\n",
        "acc_smooth = accuracy_score(y_test, y_pred_smooth)\n",
        "\n",
        "print(f\"Accuracy without Laplace smoothing (alpha=0): {acc_no_smooth * 100:.2f}%\")\n",
        "print(f\"Accuracy with Laplace smoothing (alpha=1):    {acc_smooth * 100:.2f}%\")\n"
      ],
      "metadata": {
        "colab": {
          "base_uri": "https://localhost:8080/"
        },
        "id": "MexgcStti0LP",
        "outputId": "d94c680e-c7a5-4436-ab61-247ef018904e"
      },
      "execution_count": 12,
      "outputs": [
        {
          "output_type": "stream",
          "name": "stdout",
          "text": [
            "Accuracy without Laplace smoothing (alpha=0): 70.66%\n",
            "Accuracy with Laplace smoothing (alpha=1):    94.64%\n"
          ]
        },
        {
          "output_type": "stream",
          "name": "stderr",
          "text": [
            "/usr/local/lib/python3.11/dist-packages/sklearn/naive_bayes.py:898: RuntimeWarning: divide by zero encountered in log\n",
            "  self.feature_log_prob_ = np.log(smoothed_fc) - np.log(\n"
          ]
        }
      ]
    },
    {
      "cell_type": "code",
      "source": [
        "11. #Write a Python program to train an SVM Classifier and use GridSearchCV to tune the hyperparameters (C,\n",
        "#gamma, kernel).\n",
        "from sklearn import datasets\n",
        "from sklearn.model_selection import train_test_split, GridSearchCV\n",
        "from sklearn.svm import SVC\n",
        "from sklearn.metrics import accuracy_score\n",
        "\n",
        "# Load Iris dataset\n",
        "iris = datasets.load_iris()\n",
        "X = iris.data\n",
        "y = iris.target\n",
        "\n",
        "# Split data into train and test sets\n",
        "X_train, X_test, y_train, y_test = train_test_split(X, y, test_size=0.2, random_state=42)\n",
        "\n",
        "# Define the SVM classifier\n",
        "svm = SVC()\n",
        "\n",
        "# Define the hyperparameter grid to search\n",
        "param_grid = {\n",
        "    'C': [0.1, 1, 10, 100],\n",
        "    'gamma': ['scale', 'auto', 0.01, 0.1, 1],\n",
        "    'kernel': ['linear', 'rbf', 'poly']\n",
        "}\n",
        "\n",
        "# Setup GridSearchCV\n",
        "grid_search = GridSearchCV(estimator=svm, param_grid=param_grid,\n",
        "                           cv=5, n_jobs=-1, verbose=2)\n",
        "\n",
        "# Fit GridSearch to the training data\n",
        "grid_search.fit(X_train, y_train)\n",
        "\n",
        "# Best hyperparameters found\n",
        "print(\"Best parameters found:\", grid_search.best_params_)\n",
        "\n",
        "# Predict using the best estimator\n",
        "best_svm = grid_search.best_estimator_\n",
        "y_pred = best_svm.predict(X_test)\n",
        "\n",
        "# Evaluate accuracy\n",
        "accuracy = accuracy_score(y_test, y_pred)\n",
        "print(f\"Test set accuracy with best parameters: {accuracy * 100:.2f}%\")\n"
      ],
      "metadata": {
        "colab": {
          "base_uri": "https://localhost:8080/"
        },
        "id": "97aV4vpPjI2C",
        "outputId": "10ca6136-6f20-4213-ce90-30d03a8d313a"
      },
      "execution_count": 13,
      "outputs": [
        {
          "output_type": "stream",
          "name": "stdout",
          "text": [
            "Fitting 5 folds for each of 60 candidates, totalling 300 fits\n",
            "Best parameters found: {'C': 0.1, 'gamma': 0.1, 'kernel': 'poly'}\n",
            "Test set accuracy with best parameters: 100.00%\n"
          ]
        }
      ]
    },
    {
      "cell_type": "code",
      "source": [
        "12. #Write a Python program to train an SVM Classifier on an imbalanced dataset and apply class weighting and\n",
        "#check it improve accuracy.\n",
        "from sklearn.datasets import make_classification\n",
        "from sklearn.model_selection import train_test_split\n",
        "from sklearn.svm import SVC\n",
        "from sklearn.metrics import accuracy_score, classification_report\n",
        "\n",
        "# Create an imbalanced binary classification dataset\n",
        "X, y = make_classification(n_samples=1000, n_features=20, n_classes=2,\n",
        "                           weights=[0.9, 0.1], flip_y=0, random_state=42)\n",
        "\n",
        "# Split into train and test sets\n",
        "X_train, X_test, y_train, y_test = train_test_split(X, y, test_size=0.2, random_state=42)\n",
        "\n",
        "# 1. Train SVM without class weighting\n",
        "svm_no_weight = SVC(kernel='rbf', C=1.0, gamma='scale', class_weight=None)\n",
        "svm_no_weight.fit(X_train, y_train)\n",
        "y_pred_no_weight = svm_no_weight.predict(X_test)\n",
        "\n",
        "print(\"Without class weighting:\")\n",
        "print(f\"Accuracy: {accuracy_score(y_test, y_pred_no_weight):.4f}\")\n",
        "print(\"Classification Report:\")\n",
        "print(classification_report(y_test, y_pred_no_weight))\n",
        "\n",
        "# 2. Train SVM with class weighting ('balanced')\n",
        "svm_weighted = SVC(kernel='rbf', C=1.0, gamma='scale', class_weight='balanced')\n",
        "svm_weighted.fit(X_train, y_train)\n",
        "y_pred_weighted = svm_weighted.predict(X_test)\n",
        "\n",
        "print(\"\\nWith class weighting ('balanced'):\")\n",
        "print(f\"Accuracy: {accuracy_score(y_test, y_pred_weighted):.4f}\")\n",
        "print(\"Classification Report:\")\n",
        "print(classification_report(y_test, y_pred_weighted))\n"
      ],
      "metadata": {
        "colab": {
          "base_uri": "https://localhost:8080/"
        },
        "id": "6D8RkaRmjZLj",
        "outputId": "1660649b-fafa-441f-a70e-b42268fd80d3"
      },
      "execution_count": 14,
      "outputs": [
        {
          "output_type": "stream",
          "name": "stdout",
          "text": [
            "Without class weighting:\n",
            "Accuracy: 0.9450\n",
            "Classification Report:\n",
            "              precision    recall  f1-score   support\n",
            "\n",
            "           0       0.96      0.98      0.97       185\n",
            "           1       0.67      0.53      0.59        15\n",
            "\n",
            "    accuracy                           0.94       200\n",
            "   macro avg       0.81      0.76      0.78       200\n",
            "weighted avg       0.94      0.94      0.94       200\n",
            "\n",
            "\n",
            "With class weighting ('balanced'):\n",
            "Accuracy: 0.9150\n",
            "Classification Report:\n",
            "              precision    recall  f1-score   support\n",
            "\n",
            "           0       0.97      0.94      0.95       185\n",
            "           1       0.45      0.60      0.51        15\n",
            "\n",
            "    accuracy                           0.92       200\n",
            "   macro avg       0.71      0.77      0.73       200\n",
            "weighted avg       0.93      0.92      0.92       200\n",
            "\n"
          ]
        }
      ]
    },
    {
      "cell_type": "code",
      "source": [
        "13. #Write a Python program to implement a Naïve Bayes classifier for spam detection using email data.\n",
        "import pandas as pd\n",
        "from sklearn.model_selection import train_test_split\n",
        "from sklearn.feature_extraction.text import CountVectorizer\n",
        "from sklearn.naive_bayes import MultinomialNB\n",
        "from sklearn.metrics import accuracy_score, classification_report\n",
        "import urllib.request\n",
        "import os\n",
        "\n",
        "# Download the SMS Spam Collection dataset if not present\n",
        "dataset_url = \"https://archive.ics.uci.edu/ml/machine-learning-databases/00228/smsspamcollection.zip\"\n",
        "dataset_path = \"smsspamcollection.zip\"\n",
        "extracted_file = \"SMSSpamCollection\"\n",
        "\n",
        "if not os.path.exists(extracted_file):\n",
        "    print(\"Downloading dataset...\")\n",
        "    urllib.request.urlretrieve(dataset_url, dataset_path)\n",
        "\n",
        "    import zipfile\n",
        "    with zipfile.ZipFile(dataset_path, 'r') as zip_ref:\n",
        "        zip_ref.extractall()\n",
        "    print(\"Dataset downloaded and extracted.\")\n",
        "\n",
        "# Load dataset into pandas DataFrame\n",
        "df = pd.read_csv(extracted_file, sep='\\t', header=None, names=['label', 'message'])\n",
        "\n",
        "# Map labels to binary values: ham=0 (not spam), spam=1\n",
        "df['label_num'] = df.label.map({'ham':0, 'spam':1})\n",
        "\n",
        "# Split dataset\n",
        "X_train, X_test, y_train, y_test = train_test_split(df['message'], df['label_num'], test_size=0.2, random_state=42)\n",
        "\n",
        "# Convert text data to feature vectors (bag-of-words)\n",
        "vectorizer = CountVectorizer(stop_words='english')\n",
        "X_train_counts = vectorizer.fit_transform(X_train)\n",
        "X_test_counts = vectorizer.transform(X_test)\n",
        "\n",
        "# Train Multinomial Naïve Bayes classifier\n",
        "model = MultinomialNB()\n",
        "model.fit(X_train_counts, y_train)\n",
        "\n",
        "# Predict on test data\n",
        "y_pred = model.predict(X_test_counts)\n",
        "\n",
        "# Evaluate\n",
        "accuracy = accuracy_score(y_test, y_pred)\n",
        "print(f\"Accuracy: {accuracy*100:.2f}%\\n\")\n",
        "print(\"Classification Report:\")\n",
        "print(classification_report(y_test, y_pred, target_names=['Ham', 'Spam']))\n"
      ],
      "metadata": {
        "colab": {
          "base_uri": "https://localhost:8080/"
        },
        "id": "HiaRx2VHjs3J",
        "outputId": "b973a438-e7d3-4a90-8e4c-20a3fec08487"
      },
      "execution_count": 15,
      "outputs": [
        {
          "output_type": "stream",
          "name": "stdout",
          "text": [
            "Downloading dataset...\n",
            "Dataset downloaded and extracted.\n",
            "Accuracy: 98.83%\n",
            "\n",
            "Classification Report:\n",
            "              precision    recall  f1-score   support\n",
            "\n",
            "         Ham       0.99      0.99      0.99       966\n",
            "        Spam       0.97      0.95      0.96       149\n",
            "\n",
            "    accuracy                           0.99      1115\n",
            "   macro avg       0.98      0.97      0.97      1115\n",
            "weighted avg       0.99      0.99      0.99      1115\n",
            "\n"
          ]
        }
      ]
    },
    {
      "cell_type": "code",
      "source": [
        "14. #Write a Python program to train an SVM Classifier and a Naïve Bayes Classifier on the same dataset and\n",
        "#compare their accuracy.\n",
        "from sklearn import datasets\n",
        "from sklearn.model_selection import train_test_split\n",
        "from sklearn.svm import SVC\n",
        "from sklearn.naive_bayes import GaussianNB\n",
        "from sklearn.metrics import accuracy_score\n",
        "\n",
        "# Load the Iris dataset\n",
        "iris = datasets.load_iris()\n",
        "X = iris.data\n",
        "y = iris.target\n",
        "\n",
        "# Split data into training and test sets\n",
        "X_train, X_test, y_train, y_test = train_test_split(X, y, test_size=0.2, random_state=42)\n",
        "\n",
        "# Train SVM Classifier\n",
        "svm_clf = SVC(kernel='rbf', gamma='scale', C=1.0)\n",
        "svm_clf.fit(X_train, y_train)\n",
        "y_pred_svm = svm_clf.predict(X_test)\n",
        "acc_svm = accuracy_score(y_test, y_pred_svm)\n",
        "\n",
        "# Train Gaussian Naïve Bayes Classifier\n",
        "nb_clf = GaussianNB()\n",
        "nb_clf.fit(X_train, y_train)\n",
        "y_pred_nb = nb_clf.predict(X_test)\n",
        "acc_nb = accuracy_score(y_test, y_pred_nb)\n",
        "\n",
        "# Print accuracies\n",
        "print(f\"SVM Classifier Accuracy: {acc_svm * 100:.2f}%\")\n",
        "print(f\"Naïve Bayes Classifier Accuracy: {acc_nb * 100:.2f}%\")\n"
      ],
      "metadata": {
        "colab": {
          "base_uri": "https://localhost:8080/"
        },
        "id": "KJ_hNB6vj7YA",
        "outputId": "2d69eff6-a51c-4253-85fe-5e0683f880bc"
      },
      "execution_count": 16,
      "outputs": [
        {
          "output_type": "stream",
          "name": "stdout",
          "text": [
            "SVM Classifier Accuracy: 100.00%\n",
            "Naïve Bayes Classifier Accuracy: 100.00%\n"
          ]
        }
      ]
    },
    {
      "cell_type": "code",
      "source": [
        "15. #Write a Python program to perform feature selection before training a Naïve Bayes classifier and compare\n",
        "#results.\n",
        "from sklearn import datasets\n",
        "from sklearn.model_selection import train_test_split\n",
        "from sklearn.feature_selection import SelectKBest, f_classif\n",
        "from sklearn.naive_bayes import GaussianNB\n",
        "from sklearn.metrics import accuracy_score\n",
        "\n",
        "# Load dataset\n",
        "iris = datasets.load_iris()\n",
        "X = iris.data\n",
        "y = iris.target\n",
        "\n",
        "# Split into train and test sets\n",
        "X_train, X_test, y_train, y_test = train_test_split(X, y, test_size=0.2, random_state=42)\n",
        "\n",
        "# 1. Train on all features\n",
        "nb_all = GaussianNB()\n",
        "nb_all.fit(X_train, y_train)\n",
        "y_pred_all = nb_all.predict(X_test)\n",
        "acc_all = accuracy_score(y_test, y_pred_all)\n",
        "\n",
        "# 2. Feature selection: Select top 2 features with ANOVA F-test\n",
        "selector = SelectKBest(score_func=f_classif, k=2)\n",
        "X_train_selected = selector.fit_transform(X_train, y_train)\n",
        "X_test_selected = selector.transform(X_test)\n",
        "\n",
        "# Train on selected features\n",
        "nb_selected = GaussianNB()\n",
        "nb_selected.fit(X_train_selected, y_train)\n",
        "y_pred_selected = nb_selected.predict(X_test_selected)\n",
        "acc_selected = accuracy_score(y_test, y_pred_selected)\n",
        "\n",
        "# Print results\n",
        "print(f\"Accuracy with all features: {acc_all * 100:.2f}%\")\n",
        "print(f\"Accuracy with top 2 selected features: {acc_selected * 100:.2f}%\")\n"
      ],
      "metadata": {
        "colab": {
          "base_uri": "https://localhost:8080/"
        },
        "id": "EU6eiun3kKmt",
        "outputId": "e99fc25d-51f8-44ad-8517-65583e3c7d95"
      },
      "execution_count": 17,
      "outputs": [
        {
          "output_type": "stream",
          "name": "stdout",
          "text": [
            "Accuracy with all features: 100.00%\n",
            "Accuracy with top 2 selected features: 100.00%\n"
          ]
        }
      ]
    },
    {
      "cell_type": "code",
      "source": [
        "16. #Write a Python program to train an SVM Classifier using One-vs-Rest (OvR) and One-vs-One (OvO)\n",
        "#strategies on the Wine dataset and compare their accuracy.\n",
        "from sklearn import datasets\n",
        "from sklearn.model_selection import train_test_split\n",
        "from sklearn.svm import SVC\n",
        "from sklearn.multiclass import OneVsRestClassifier, OneVsOneClassifier\n",
        "from sklearn.metrics import accuracy_score\n",
        "\n",
        "# Load Wine dataset\n",
        "wine = datasets.load_wine()\n",
        "X = wine.data\n",
        "y = wine.target\n",
        "\n",
        "# Split data into train and test sets\n",
        "X_train, X_test, y_train, y_test = train_test_split(X, y, test_size=0.2, random_state=42)\n",
        "\n",
        "# One-vs-Rest strategy\n",
        "ovr_clf = OneVsRestClassifier(SVC(kernel='rbf', gamma='scale', C=1.0))\n",
        "ovr_clf.fit(X_train, y_train)\n",
        "y_pred_ovr = ovr_clf.predict(X_test)\n",
        "acc_ovr = accuracy_score(y_test, y_pred_ovr)\n",
        "\n",
        "# One-vs-One strategy\n",
        "ovo_clf = OneVsOneClassifier(SVC(kernel='rbf', gamma='scale', C=1.0))\n",
        "ovo_clf.fit(X_train, y_train)\n",
        "y_pred_ovo = ovo_clf.predict(X_test)\n",
        "acc_ovo = accuracy_score(y_test, y_pred_ovo)\n",
        "\n",
        "print(f\"Accuracy with One-vs-Rest (OvR): {acc_ovr * 100:.2f}%\")\n",
        "print(f\"Accuracy with One-vs-One (OvO): {acc_ovo * 100:.2f}%\")\n"
      ],
      "metadata": {
        "colab": {
          "base_uri": "https://localhost:8080/"
        },
        "id": "WyqBEkp-kYnB",
        "outputId": "46f432c6-382e-4faa-df4e-6170411c136f"
      },
      "execution_count": 18,
      "outputs": [
        {
          "output_type": "stream",
          "name": "stdout",
          "text": [
            "Accuracy with One-vs-Rest (OvR): 77.78%\n",
            "Accuracy with One-vs-One (OvO): 83.33%\n"
          ]
        }
      ]
    },
    {
      "cell_type": "code",
      "source": [
        "17. #Write a Python program to train an SVM Classifier using Linear, Polynomial, and RBF kernels on the Breast\n",
        "#Cancer dataset and compare their accuracy.\n",
        "from sklearn import datasets\n",
        "from sklearn.model_selection import train_test_split\n",
        "from sklearn.svm import SVC\n",
        "from sklearn.metrics import accuracy_score\n",
        "\n",
        "# Load Breast Cancer dataset\n",
        "cancer = datasets.load_breast_cancer()\n",
        "X = cancer.data\n",
        "y = cancer.target\n",
        "\n",
        "# Split data into training and test sets\n",
        "X_train, X_test, y_train, y_test = train_test_split(X, y, test_size=0.2, random_state=42)\n",
        "\n",
        "# Define kernels to try\n",
        "kernels = ['linear', 'poly', 'rbf']\n",
        "accuracies = {}\n",
        "\n",
        "for kernel in kernels:\n",
        "    # Train SVM with current kernel\n",
        "    svm_clf = SVC(kernel=kernel, gamma='scale', degree=3 if kernel == 'poly' else 0, random_state=42)\n",
        "    svm_clf.fit(X_train, y_train)\n",
        "\n",
        "    # Predict and calculate accuracy\n",
        "    y_pred = svm_clf.predict(X_test)\n",
        "    accuracies[kernel] = accuracy_score(y_test, y_pred)\n",
        "\n",
        "# Print the accuracies\n",
        "for k, acc in accuracies.items():\n",
        "    print(f\"SVM with {k} kernel accuracy: {acc * 100:.2f}%\")\n"
      ],
      "metadata": {
        "colab": {
          "base_uri": "https://localhost:8080/"
        },
        "id": "puOts03kkm9N",
        "outputId": "c57a7c3c-d812-4a66-f468-5d44c51968a4"
      },
      "execution_count": 19,
      "outputs": [
        {
          "output_type": "stream",
          "name": "stdout",
          "text": [
            "SVM with linear kernel accuracy: 95.61%\n",
            "SVM with poly kernel accuracy: 94.74%\n",
            "SVM with rbf kernel accuracy: 94.74%\n"
          ]
        }
      ]
    },
    {
      "cell_type": "code",
      "source": [
        "18. #Write a Python program to train an SVM Classifier using Stratified K-Fold Cross-Validation and compute the\n",
        "#average accuracy.\n",
        "from sklearn import datasets\n",
        "from sklearn.svm import SVC\n",
        "from sklearn.model_selection import StratifiedKFold, cross_val_score\n",
        "import numpy as np\n",
        "\n",
        "# Load dataset\n",
        "iris = datasets.load_iris()\n",
        "X = iris.data\n",
        "y = iris.target\n",
        "\n",
        "# Initialize SVM classifier\n",
        "svm_clf = SVC(kernel='rbf', gamma='scale', C=1.0)\n",
        "\n",
        "# Stratified K-Fold Cross-Validation (k=5)\n",
        "skf = StratifiedKFold(n_splits=5, shuffle=True, random_state=42)\n",
        "\n",
        "# Compute cross-validated accuracy scores\n",
        "scores = cross_val_score(svm_clf, X, y, cv=skf, scoring='accuracy')\n",
        "\n",
        "# Print scores and average accuracy\n",
        "print(\"Accuracy scores for each fold:\", scores)\n",
        "print(f\"Average accuracy: {np.mean(scores) * 100:.2f}%\")\n"
      ],
      "metadata": {
        "colab": {
          "base_uri": "https://localhost:8080/"
        },
        "id": "Tr3hUvR9k2gv",
        "outputId": "ce64b04f-cc9c-473d-d4f5-ba75941ea71a"
      },
      "execution_count": 20,
      "outputs": [
        {
          "output_type": "stream",
          "name": "stdout",
          "text": [
            "Accuracy scores for each fold: [1.         0.96666667 0.93333333 1.         0.93333333]\n",
            "Average accuracy: 96.67%\n"
          ]
        }
      ]
    },
    {
      "cell_type": "code",
      "source": [
        "19. #Write a Python program to train a Naïve Bayes classifier using different prior probabilities and compare\n",
        "#performance.\n",
        "from sklearn import datasets\n",
        "from sklearn.model_selection import train_test_split\n",
        "from sklearn.naive_bayes import GaussianNB\n",
        "from sklearn.metrics import accuracy_score\n",
        "\n",
        "# Load dataset\n",
        "iris = datasets.load_iris()\n",
        "X = iris.data\n",
        "y = iris.target\n",
        "\n",
        "# Split dataset\n",
        "X_train, X_test, y_train, y_test = train_test_split(X, y, test_size=0.2, random_state=42)\n",
        "\n",
        "# Define different prior probabilities (for 3 classes)\n",
        "priors_list = [\n",
        "    None,  # Use default priors (computed from training data)\n",
        "    [0.5, 0.3, 0.2],\n",
        "    [0.2, 0.5, 0.3],\n",
        "    [0.33, 0.33, 0.34]\n",
        "]\n",
        "\n",
        "print(\"Comparing Gaussian Naïve Bayes with different priors:\\n\")\n",
        "for priors in priors_list:\n",
        "    nb = GaussianNB(priors=priors)\n",
        "    nb.fit(X_train, y_train)\n",
        "    y_pred = nb.predict(X_test)\n",
        "    acc = accuracy_score(y_test, y_pred)\n",
        "    print(f\"Priors: {priors if priors else 'default'} => Accuracy: {acc * 100:.2f}%\")\n"
      ],
      "metadata": {
        "colab": {
          "base_uri": "https://localhost:8080/"
        },
        "id": "RwSW2dd-lHk4",
        "outputId": "d876e6ee-ebfc-4eb6-ea11-6bd39aed1a0f"
      },
      "execution_count": 21,
      "outputs": [
        {
          "output_type": "stream",
          "name": "stdout",
          "text": [
            "Comparing Gaussian Naïve Bayes with different priors:\n",
            "\n",
            "Priors: default => Accuracy: 100.00%\n",
            "Priors: [0.5, 0.3, 0.2] => Accuracy: 100.00%\n",
            "Priors: [0.2, 0.5, 0.3] => Accuracy: 100.00%\n",
            "Priors: [0.33, 0.33, 0.34] => Accuracy: 100.00%\n"
          ]
        }
      ]
    },
    {
      "cell_type": "code",
      "source": [
        "20. #Write a Python program to perform Recursive Feature Elimination (RFE) before training an SVM Classifier and\n",
        "#compare accuracy.\n",
        "from sklearn import datasets\n",
        "from sklearn.model_selection import train_test_split\n",
        "from sklearn.svm import SVC\n",
        "from sklearn.feature_selection import RFE\n",
        "from sklearn.metrics import accuracy_score\n",
        "\n",
        "# Load dataset\n",
        "iris = datasets.load_iris()\n",
        "X = iris.data\n",
        "y = iris.target\n",
        "\n",
        "# Split data\n",
        "X_train, X_test, y_train, y_test = train_test_split(X, y, test_size=0.2, random_state=42)\n",
        "\n",
        "# Train SVM on all features\n",
        "svm_all = SVC(kernel='linear', random_state=42)\n",
        "svm_all.fit(X_train, y_train)\n",
        "y_pred_all = svm_all.predict(X_test)\n",
        "acc_all = accuracy_score(y_test, y_pred_all)\n",
        "\n",
        "# Perform Recursive Feature Elimination (RFE) to select top 2 features\n",
        "rfe = RFE(estimator=SVC(kernel='linear'), n_features_to_select=2)\n",
        "rfe.fit(X_train, y_train)\n",
        "\n",
        "# Transform training and test data to selected features\n",
        "X_train_rfe = rfe.transform(X_train)\n",
        "X_test_rfe = rfe.transform(X_test)\n",
        "\n",
        "# Train SVM on selected features\n",
        "svm_rfe = SVC(kernel='linear', random_state=42)\n",
        "svm_rfe.fit(X_train_rfe, y_train)\n",
        "y_pred_rfe = svm_rfe.predict(X_test_rfe)\n",
        "acc_rfe = accuracy_score(y_test, y_pred_rfe)\n",
        "\n",
        "print(f\"Accuracy with all features: {acc_all * 100:.2f}%\")\n",
        "print(f\"Accuracy with RFE selected features: {acc_rfe * 100:.2f}%\")\n"
      ],
      "metadata": {
        "colab": {
          "base_uri": "https://localhost:8080/"
        },
        "id": "qdS7LNxzlY9m",
        "outputId": "416262d9-cddf-4d4c-9bb6-cb8826b6661f"
      },
      "execution_count": 22,
      "outputs": [
        {
          "output_type": "stream",
          "name": "stdout",
          "text": [
            "Accuracy with all features: 100.00%\n",
            "Accuracy with RFE selected features: 100.00%\n"
          ]
        }
      ]
    },
    {
      "cell_type": "code",
      "source": [
        "21. #Write a Python program to train an SVM Classifier and evaluate its performance using Precision, Recall, and\n",
        "#F1-Score instead of accuracy.\n",
        "from sklearn import datasets\n",
        "from sklearn.model_selection import train_test_split\n",
        "from sklearn.svm import SVC\n",
        "from sklearn.metrics import precision_score, recall_score, f1_score, classification_report\n",
        "\n",
        "# Load dataset\n",
        "iris = datasets.load_iris()\n",
        "X = iris.data\n",
        "y = iris.target\n",
        "\n",
        "# Split dataset\n",
        "X_train, X_test, y_train, y_test = train_test_split(X, y, test_size=0.2, random_state=42)\n",
        "\n",
        "# Train SVM classifier\n",
        "svm_clf = SVC(kernel='rbf', gamma='scale', C=1.0)\n",
        "svm_clf.fit(X_train, y_train)\n",
        "\n",
        "# Predict on test set\n",
        "y_pred = svm_clf.predict(X_test)\n",
        "\n",
        "# Calculate metrics\n",
        "precision = precision_score(y_test, y_pred, average='weighted')\n",
        "recall = recall_score(y_test, y_pred, average='weighted')\n",
        "f1 = f1_score(y_test, y_pred, average='weighted')\n",
        "\n",
        "print(f\"Precision: {precision:.4f}\")\n",
        "print(f\"Recall:    {recall:.4f}\")\n",
        "print(f\"F1-Score:  {f1:.4f}\")\n",
        "\n",
        "# Optional: detailed classification report per class\n",
        "print(\"\\nClassification Report:\\n\")\n",
        "print(classification_report(y_test, y_pred))\n"
      ],
      "metadata": {
        "colab": {
          "base_uri": "https://localhost:8080/"
        },
        "id": "5GZpovqlluLG",
        "outputId": "a8508fd6-427c-433d-85b5-4c03350f9e86"
      },
      "execution_count": 23,
      "outputs": [
        {
          "output_type": "stream",
          "name": "stdout",
          "text": [
            "Precision: 1.0000\n",
            "Recall:    1.0000\n",
            "F1-Score:  1.0000\n",
            "\n",
            "Classification Report:\n",
            "\n",
            "              precision    recall  f1-score   support\n",
            "\n",
            "           0       1.00      1.00      1.00        10\n",
            "           1       1.00      1.00      1.00         9\n",
            "           2       1.00      1.00      1.00        11\n",
            "\n",
            "    accuracy                           1.00        30\n",
            "   macro avg       1.00      1.00      1.00        30\n",
            "weighted avg       1.00      1.00      1.00        30\n",
            "\n"
          ]
        }
      ]
    },
    {
      "cell_type": "code",
      "source": [
        "22. #Write a Python program to train a Naïve Bayes Classifier and evaluate its performance using Log Loss\n",
        "#(Cross-Entropy Loss).\n",
        "from sklearn import datasets\n",
        "from sklearn.model_selection import train_test_split\n",
        "from sklearn.naive_bayes import GaussianNB\n",
        "from sklearn.metrics import log_loss\n",
        "\n",
        "# Load dataset\n",
        "iris = datasets.load_iris()\n",
        "X = iris.data\n",
        "y = iris.target\n",
        "\n",
        "# Split dataset into train and test sets\n",
        "X_train, X_test, y_train, y_test = train_test_split(X, y, test_size=0.2, random_state=42)\n",
        "\n",
        "# Train Gaussian Naïve Bayes classifier\n",
        "nb = GaussianNB()\n",
        "nb.fit(X_train, y_train)\n",
        "\n",
        "# Predict class probabilities on test set\n",
        "y_proba = nb.predict_proba(X_test)\n",
        "\n",
        "# Compute Log Loss\n",
        "loss = log_loss(y_test, y_proba)\n",
        "\n",
        "print(f\"Log Loss (Cross-Entropy Loss): {loss:.4f}\")\n"
      ],
      "metadata": {
        "colab": {
          "base_uri": "https://localhost:8080/"
        },
        "id": "E-jl7Sgcl-4E",
        "outputId": "6dbd2320-133c-4d31-9969-e97180756837"
      },
      "execution_count": 24,
      "outputs": [
        {
          "output_type": "stream",
          "name": "stdout",
          "text": [
            "Log Loss (Cross-Entropy Loss): 0.0263\n"
          ]
        }
      ]
    },
    {
      "cell_type": "code",
      "source": [
        "23. #Write a Python program to train an SVM Classifier and visualize the Confusion Matrix using seaborn.\n",
        "import seaborn as sns\n",
        "import matplotlib.pyplot as plt\n",
        "from sklearn import datasets\n",
        "from sklearn.model_selection import train_test_split\n",
        "from sklearn.svm import SVC\n",
        "from sklearn.metrics import confusion_matrix\n",
        "\n",
        "# Load dataset\n",
        "iris = datasets.load_iris()\n",
        "X = iris.data\n",
        "y = iris.target\n",
        "\n",
        "# Split dataset\n",
        "X_train, X_test, y_train, y_test = train_test_split(X, y, test_size=0.2, random_state=42)\n",
        "\n",
        "# Train SVM classifier\n",
        "svm_clf = SVC(kernel='rbf', gamma='scale', C=1.0)\n",
        "svm_clf.fit(X_train, y_train)\n",
        "\n",
        "# Predict on test data\n",
        "y_pred = svm_clf.predict(X_test)\n",
        "\n",
        "# Compute confusion matrix\n",
        "cm = confusion_matrix(y_test, y_pred)\n",
        "\n",
        "# Plot confusion matrix using seaborn heatmap\n",
        "plt.figure(figsize=(6, 5))\n",
        "sns.heatmap(cm, annot=True, fmt='d', cmap='Blues',\n",
        "            xticklabels=iris.target_names,\n",
        "            yticklabels=iris.target_names)\n",
        "plt.xlabel('Predicted')\n",
        "plt.ylabel('Actual')\n",
        "plt.title('Confusion Matrix - SVM Classifier')\n",
        "plt.show()\n"
      ],
      "metadata": {
        "colab": {
          "base_uri": "https://localhost:8080/",
          "height": 487
        },
        "id": "CT9QMTPymOnl",
        "outputId": "da8c7031-30e4-42be-dffb-c93007642ae7"
      },
      "execution_count": 25,
      "outputs": [
        {
          "output_type": "display_data",
          "data": {
            "text/plain": [
              "<Figure size 600x500 with 2 Axes>"
            ],
            "image/png": "[encoded data removed]"
          },
          "metadata": {}
        }
      ]
    },
    {
      "cell_type": "code",
      "source": [
        "24. #Write a Python program to train an SVM Regressor (SVR) and evaluate its performance using Mean Absolute\n",
        "#Error (MAE) instead of MSE.\n",
        "from sklearn.datasets import fetch_california_housing\n",
        "from sklearn.model_selection import train_test_split\n",
        "from sklearn.svm import SVR\n",
        "from sklearn.metrics import mean_absolute_error\n",
        "\n",
        "# Load dataset (using California housing as Boston is deprecated)\n",
        "data = fetch_california_housing()\n",
        "X = data.data\n",
        "y = data.target\n",
        "\n",
        "# Split data into train and test sets\n",
        "X_train, X_test, y_train, y_test = train_test_split(X, y, test_size=0.2, random_state=42)\n",
        "\n",
        "# Initialize SVR model\n",
        "svr = SVR(kernel='rbf', C=100, gamma='scale', epsilon=0.1)\n",
        "\n",
        "# Train the SVR model\n",
        "svr.fit(X_train, y_train)\n",
        "\n",
        "# Predict on test data\n",
        "y_pred = svr.predict(X_test)\n",
        "\n",
        "# Evaluate performance using Mean Absolute Error\n",
        "mae = mean_absolute_error(y_test, y_pred)\n",
        "print(f\"Mean Absolute Error (MAE): {mae:.4f}\")\n"
      ],
      "metadata": {
        "colab": {
          "base_uri": "https://localhost:8080/"
        },
        "id": "gICvePFGmaLH",
        "outputId": "25df737f-530a-49f3-bc7b-748b6717d80d"
      },
      "execution_count": 26,
      "outputs": [
        {
          "output_type": "stream",
          "name": "stdout",
          "text": [
            "Mean Absolute Error (MAE): 0.5693\n"
          ]
        }
      ]
    },
    {
      "cell_type": "code",
      "source": [
        "25. #Write a Python program to train a Naïve Bayes classifier and evaluate its performance using the ROC-AUC\n",
        "#score.\n",
        "from sklearn.datasets import load_breast_cancer\n",
        "from sklearn.model_selection import train_test_split\n",
        "from sklearn.naive_bayes import GaussianNB\n",
        "from sklearn.metrics import roc_auc_score\n",
        "from sklearn.preprocessing import label_binarize\n",
        "\n",
        "# Load binary classification dataset\n",
        "data = load_breast_cancer()\n",
        "X = data.data\n",
        "y = data.target\n",
        "\n",
        "# Split dataset\n",
        "X_train, X_test, y_train, y_test = train_test_split(X, y, test_size=0.2, random_state=42)\n",
        "\n",
        "# Train Gaussian Naïve Bayes\n",
        "nb = GaussianNB()\n",
        "nb.fit(X_train, y_train)\n",
        "\n",
        "# Predict probabilities for positive class\n",
        "y_proba = nb.predict_proba(X_test)[:, 1]\n",
        "\n",
        "# Calculate ROC-AUC score\n",
        "roc_auc = roc_auc_score(y_test, y_proba)\n",
        "print(f\"ROC-AUC Score: {roc_auc:.4f}\")\n"
      ],
      "metadata": {
        "colab": {
          "base_uri": "https://localhost:8080/"
        },
        "id": "TW8l3Xlamom6",
        "outputId": "71ee6621-eb9a-42d4-f429-6b157048a56a"
      },
      "execution_count": 27,
      "outputs": [
        {
          "output_type": "stream",
          "name": "stdout",
          "text": [
            "ROC-AUC Score: 0.9984\n"
          ]
        }
      ]
    },
    {
      "cell_type": "code",
      "source": [
        "26. #Write a Python program to train an SVM Classifier and visualize the Precision-Recall Curve.\n",
        "import matplotlib.pyplot as plt\n",
        "from sklearn import datasets\n",
        "from sklearn.model_selection import train_test_split\n",
        "from sklearn.svm import SVC\n",
        "from sklearn.metrics import precision_recall_curve, average_precision_score\n",
        "\n",
        "# Load binary classification dataset (Breast Cancer)\n",
        "data = datasets.load_breast_cancer()\n",
        "X = data.data\n",
        "y = data.target\n",
        "\n",
        "# Split dataset\n",
        "X_train, X_test, y_train, y_test = train_test_split(X, y, test_size=0.2, random_state=42)\n",
        "\n",
        "# Train SVM classifier with probability estimates enabled\n",
        "svm_clf = SVC(kernel='rbf', gamma='scale', C=1.0, probability=True)\n",
        "svm_clf.fit(X_train, y_train)\n",
        "\n",
        "# Predict probabilities for the positive class\n",
        "y_scores = svm_clf.predict_proba(X_test)[:, 1]\n",
        "\n",
        "# Compute precision-recall curve\n",
        "precision, recall, thresholds = precision_recall_curve(y_test, y_scores)\n",
        "\n",
        "# Compute average precision score\n",
        "avg_precision = average_precision_score(y_test, y_scores)\n",
        "\n",
        "# Plot Precision-Recall curve\n",
        "plt.figure(figsize=(8,6))\n",
        "plt.plot(recall, precision, label=f'Avg Precision = {avg_precision:.2f}')\n",
        "plt.xlabel('Recall')\n",
        "plt.ylabel('Precision')\n",
        "plt.title('Precision-Recall Curve - SVM Classifier')\n",
        "plt.legend()\n",
        "plt.grid(True)\n",
        "plt.show()\n"
      ],
      "metadata": {
        "colab": {
          "base_uri": "https://localhost:8080/",
          "height": 564
        },
        "id": "lDJEuAr1m8qw",
        "outputId": "d83311f3-20af-4035-dae4-bb2455b592f5"
      },
      "execution_count": 28,
      "outputs": [
        {
          "output_type": "display_data",
          "data": {
            "text/plain": [
              "<Figure size 800x600 with 1 Axes>"
            ],
            "image/png": "[encoded data removed]"
          },
          "metadata": {}
        }
      ]
    }
  ]
}